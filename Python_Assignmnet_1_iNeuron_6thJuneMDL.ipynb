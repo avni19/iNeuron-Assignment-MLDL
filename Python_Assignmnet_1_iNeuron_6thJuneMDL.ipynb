{
  "nbformat": 4,
  "nbformat_minor": 0,
  "metadata": {
    "colab": {
      "name": "Python Assignmnet 1 iNeuron-6thJuneMDL.ipynb",
      "provenance": [],
      "authorship_tag": "ABX9TyN5yjj/oz0EEat1h6CClZwE",
      "include_colab_link": true
    },
    "kernelspec": {
      "name": "python3",
      "display_name": "Python 3"
    }
  },
  "cells": [
    {
      "cell_type": "markdown",
      "metadata": {
        "id": "view-in-github",
        "colab_type": "text"
      },
      "source": [
        "<a href=\"https://colab.research.google.com/github/avni19/iNeuron-Assignment-MLDL/blob/master/Python_Assignmnet_1_iNeuron_6thJuneMDL.ipynb\" target=\"_parent\"><img src=\"https://colab.research.google.com/assets/colab-badge.svg\" alt=\"Open In Colab\"/></a>"
      ]
    },
    {
      "cell_type": "markdown",
      "metadata": {
        "id": "dkj1VSA2ksqw",
        "colab_type": "text"
      },
      "source": [
        "[Python Assignmnet-01](https://drive.google.com/file/d/1gLm6kSoqBfz13ZIwqbYis3RNjrrV-PY1/view)"
      ]
    },
    {
      "cell_type": "markdown",
      "metadata": {
        "id": "xE1qlYb4lzCC",
        "colab_type": "text"
      },
      "source": [
        "1. Write a program which will find all such numbers which are divisible by 7 but are not a multiple of 5, between 2000 and 3200 (both included). The numbers obtained should be printed\n",
        "in a comma-separated sequence on a single line.\n"
      ]
    },
    {
      "cell_type": "code",
      "metadata": {
        "id": "HXltxHVAlGBT",
        "colab_type": "code",
        "colab": {
          "base_uri": "https://localhost:8080/",
          "height": 55
        },
        "outputId": "f8b99c91-e182-4c0b-ee24-6c71d1748e87"
      },
      "source": [
        "for x in range(2000, 3231):                                                                                                  # include range from 2000 to 3200 including both\n",
        "   if  (x %7 == 0) and (x%5 != 0):                                                                                      #check divisiblity\n",
        "    print(x, end = \" , \")\n"
      ],
      "execution_count": null,
      "outputs": [
        {
          "output_type": "stream",
          "text": [
            "2002 , 2009 , 2016 , 2023 , 2037 , 2044 , 2051 , 2058 , 2072 , 2079 , 2086 , 2093 , 2107 , 2114 , 2121 , 2128 , 2142 , 2149 , 2156 , 2163 , 2177 , 2184 , 2191 , 2198 , 2212 , 2219 , 2226 , 2233 , 2247 , 2254 , 2261 , 2268 , 2282 , 2289 , 2296 , 2303 , 2317 , 2324 , 2331 , 2338 , 2352 , 2359 , 2366 , 2373 , 2387 , 2394 , 2401 , 2408 , 2422 , 2429 , 2436 , 2443 , 2457 , 2464 , 2471 , 2478 , 2492 , 2499 , 2506 , 2513 , 2527 , 2534 , 2541 , 2548 , 2562 , 2569 , 2576 , 2583 , 2597 , 2604 , 2611 , 2618 , 2632 , 2639 , 2646 , 2653 , 2667 , 2674 , 2681 , 2688 , 2702 , 2709 , 2716 , 2723 , 2737 , 2744 , 2751 , 2758 , 2772 , 2779 , 2786 , 2793 , 2807 , 2814 , 2821 , 2828 , 2842 , 2849 , 2856 , 2863 , 2877 , 2884 , 2891 , 2898 , 2912 , 2919 , 2926 , 2933 , 2947 , 2954 , 2961 , 2968 , 2982 , 2989 , 2996 , 3003 , 3017 , 3024 , 3031 , 3038 , 3052 , 3059 , 3066 , 3073 , 3087 , 3094 , 3101 , 3108 , 3122 , 3129 , 3136 , 3143 , 3157 , 3164 , 3171 , 3178 , 3192 , 3199 , 3206 , 3213 , 3227 , "
          ],
          "name": "stdout"
        }
      ]
    },
    {
      "cell_type": "markdown",
      "metadata": {
        "id": "5W1XOlyzl6A0",
        "colab_type": "text"
      },
      "source": [
        "2.Write a Python program to accept the user's first and last name and then getting them printed in the the reverse order with a space between first name and last name."
      ]
    },
    {
      "cell_type": "code",
      "metadata": {
        "id": "9yx9za4yl4tH",
        "colab_type": "code",
        "colab": {
          "base_uri": "https://localhost:8080/",
          "height": 89
        },
        "outputId": "f214acc7-e8d3-4680-c1aa-ed8907c1060a"
      },
      "source": [
        "first_name = str(input(\"Enter your first's name\"))                                                                                                                                                                    #take first name as input\n",
        "last_name = str(input(\"Enter your last's name\"))                                                                                                                                                                      #take last name as input\n",
        "print(\"you have entered name as\" ,first_name +\"  \" + last_name)\n",
        "print( \"reverse order with a space between first name and last name:->>>>>>>>>>\" , last_name + \" \" + first_name)                              #print last name  first and first name last"
      ],
      "execution_count": null,
      "outputs": [
        {
          "output_type": "stream",
          "text": [
            "Enter your first's nameavnish\n",
            "Enter your last's namegiri\n",
            "you have entered name as avnish  giri\n",
            "reverse order with a space between first name and last name:->>>>>>>>>> giri avnish\n"
          ],
          "name": "stdout"
        }
      ]
    },
    {
      "cell_type": "markdown",
      "metadata": {
        "id": "gNT2e041mB3j",
        "colab_type": "text"
      },
      "source": [
        "3. Write a Python program to find the volume of a sphere with diameter 12 cm.\n",
        "Formula: V=4/3 * π * r\n"
      ]
    },
    {
      "cell_type": "code",
      "metadata": {
        "id": "B6tx2SW-mASY",
        "colab_type": "code",
        "colab": {
          "base_uri": "https://localhost:8080/",
          "height": 35
        },
        "outputId": "3ca15ab1-4083-4f82-d8f2-fabc02f33b4c"
      },
      "source": [
        "#we cant' use i directly in the code, so to use pi mathemtaically , we have to import library math.o use mathematical functions under this module, \n",
        "#you have to import the module using import math . \n",
        "#It gives access to the underlying C library functions. For example, # Square root calculation import math math.sqrt(4)\n",
        "\n",
        "import math                                              \n",
        "#d = float(input(\"Enter your diameter\"))     \n",
        "d = 12        \n",
        "radius = d/2                                             \n",
        "Vol = ((4/3)*(math.pi)*radius)\n",
        "Vol_fixed = ((4/3)*(math.pi)*radius)\n",
        "print(\"Volume of sphere is \",Vol_fixed)\n",
        "#print(\"Volume of Sphere is \",Vol)"
      ],
      "execution_count": null,
      "outputs": [
        {
          "output_type": "stream",
          "text": [
            "Volume of sphere is  25.132741228718345\n"
          ],
          "name": "stdout"
        }
      ]
    },
    {
      "cell_type": "code",
      "metadata": {
        "id": "5prqTIiDv-az",
        "colab_type": "code",
        "colab": {}
      },
      "source": [
        ""
      ],
      "execution_count": null,
      "outputs": []
    }
  ]
}