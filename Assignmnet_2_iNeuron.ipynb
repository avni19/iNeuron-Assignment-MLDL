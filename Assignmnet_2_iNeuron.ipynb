{
  "nbformat": 4,
  "nbformat_minor": 0,
  "metadata": {
    "colab": {
      "name": "Assignmnet-2 iNeuron.ipynb",
      "provenance": [],
      "collapsed_sections": [],
      "authorship_tag": "ABX9TyMZC+TEf7pvJSdXqnwaGFBo",
      "include_colab_link": true
    },
    "kernelspec": {
      "name": "python3",
      "display_name": "Python 3"
    }
  },
  "cells": [
    {
      "cell_type": "markdown",
      "metadata": {
        "id": "view-in-github",
        "colab_type": "text"
      },
      "source": [
        "<a href=\"https://colab.research.google.com/github/avni19/iNeuron-Assignment-MLDL/blob/master/Assignmnet_2_iNeuron.ipynb\" target=\"_parent\"><img src=\"https://colab.research.google.com/assets/colab-badge.svg\" alt=\"Open In Colab\"/></a>"
      ]
    },
    {
      "cell_type": "code",
      "metadata": {
        "id": "JN6t71n7_pU3",
        "colab_type": "code",
        "colab": {
          "base_uri": "https://localhost:8080/",
          "height": 53
        },
        "outputId": "8a95586d-5f9d-4139-951d-261af9595c6d"
      },
      "source": [
        "str=input(\"enter your name\") \n",
        "length=len(str) \n",
        "reverse=str[length::-1] \n",
        "print(reverse)\n"
      ],
      "execution_count": null,
      "outputs": [
        {
          "output_type": "stream",
          "text": [
            "enter your nameineuron\n",
            "norueni\n"
          ],
          "name": "stdout"
        }
      ]
    },
    {
      "cell_type": "code",
      "metadata": {
        "id": "3tEXCKIP_66q",
        "colab_type": "code",
        "colab": {
          "base_uri": "https://localhost:8080/",
          "height": 197
        },
        "outputId": "839de5ba-110f-4472-cdbc-59b5d9dccb9a"
      },
      "source": [
        "rows = 6\n",
        "for num in range(rows):\n",
        "    for i in range(num):\n",
        "        print('*',end=\" \") \n",
        "    print(\"\")\n",
        "b=0\n",
        "for i in range(4, 0, -1):\n",
        "    b = b+1\n",
        "    for j in range(1, i + 1):\n",
        "        print('*', end=' ')\n",
        "    print(\"\\r\")\n",
        "  "
      ],
      "execution_count": null,
      "outputs": [
        {
          "output_type": "stream",
          "text": [
            "\n",
            "* \n",
            "* * \n",
            "* * * \n",
            "* * * * \n",
            "* * * * * \n",
            "* * * * \r\n",
            "* * * \r\n",
            "* * \r\n",
            "* \r\n"
          ],
          "name": "stdout"
        }
      ]
    },
    {
      "cell_type": "code",
      "metadata": {
        "id": "T24y3nn3DQU9",
        "colab_type": "code",
        "colab": {}
      },
      "source": [
        ""
      ],
      "execution_count": null,
      "outputs": []
    }
  ]
}